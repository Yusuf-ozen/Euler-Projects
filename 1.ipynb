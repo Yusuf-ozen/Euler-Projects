{
 "cells": [
  {
   "cell_type": "code",
   "execution_count": 4,
   "id": "291aa55f",
   "metadata": {},
   "outputs": [],
   "source": [
    "## Project Euler Problem 1 \n",
    "\n",
    "## If we list all the natural numbers below 10 that are multiples of 3 or 5, we get 3, 5, 6 and 9. The sum of these multiples is 23.\n",
    "\n",
    "## Find the sum of all the multiples of 3 or 5 below 1000.\n"
   ]
  },
  {
   "cell_type": "code",
   "execution_count": 23,
   "id": "b595198b",
   "metadata": {},
   "outputs": [
    {
     "name": "stdout",
     "output_type": "stream",
     "text": [
      "Enter a number : 10\n",
      "Sum of all multiple of 10 is : 23\n"
     ]
    }
   ],
   "source": [
    "number = int(input(\"Enter a number : \"))  # ask user for a number\n",
    "sum_of_multiples = 0   ## define the sum of multiples\n",
    "\n",
    "for i in range(1, number):\n",
    "    if(i % 3 == 0 or i % 5 == 0):\n",
    "        sum_of_multiples += i  # increase sum by i\n",
    "        \n",
    "        # print(i)\n",
    "    \n",
    "            \n",
    "print(f\"Sum of all multiple of {number} is : {sum_of_multiples}\")"
   ]
  },
  {
   "cell_type": "code",
   "execution_count": null,
   "id": "523fa0ec",
   "metadata": {},
   "outputs": [],
   "source": []
  }
 ],
 "metadata": {
  "kernelspec": {
   "display_name": "Python 3 (ipykernel)",
   "language": "python",
   "name": "python3"
  },
  "language_info": {
   "codemirror_mode": {
    "name": "ipython",
    "version": 3
   },
   "file_extension": ".py",
   "mimetype": "text/x-python",
   "name": "python",
   "nbconvert_exporter": "python",
   "pygments_lexer": "ipython3",
   "version": "3.9.12"
  }
 },
 "nbformat": 4,
 "nbformat_minor": 5
}
